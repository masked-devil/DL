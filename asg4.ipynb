{
 "cells": [
  {
   "cell_type": "markdown",
   "id": "9cffa1f5-7bfa-47d5-9871-c71c21dcfa99",
   "metadata": {},
   "source": [
    "Use Autoencoder to implement anomaly detection. Build the model by using:\n",
    "a. Import required libraries\n",
    "b. Upload / access the dataset\n",
    "c. Encoder converts it into latent representation\n",
    "d. Decoder networks convert it back to the original input\n",
    "e. Compile the models with Optimizer, Loss, and Evaluation Metrics"
   ]
  },
  {
   "cell_type": "code",
   "execution_count": null,
   "id": "f5fbfe11-a5ab-4ba1-ba48-3971b0a09f32",
   "metadata": {},
   "outputs": [],
   "source": [
    "import numpy as np\n",
    "import pandas as pd\n",
    "import matplotlib.pyplot as plt\n",
    "from tensorflow.keras.models import Model\n",
    "from tensorflow.keras.layers import Input, Dense\n",
    "from tensorflow.keras.optimizers import Adam\n",
    "from sklearn.preprocessing import StandardScaler\n"
   ]
  },
  {
   "cell_type": "code",
   "execution_count": null,
   "id": "416e2afc-c2e3-481d-82fe-f646a0cfd573",
   "metadata": {},
   "outputs": [],
   "source": [
    "data = pd.read_csv(r\"C:\\Users\\ASUS\\Downloads\\creditcard.csv\")\n",
    "print(data.info())\n",
    "print(data.head())\n"
   ]
  },
  {
   "cell_type": "code",
   "execution_count": null,
   "id": "73fead4c-5f9d-4e43-bfb8-79537b645e73",
   "metadata": {},
   "outputs": [],
   "source": [
    "# Separate Features and Labels\n",
    "X = data.drop(columns=['Class'])\n",
    "y = data['Class']\n"
   ]
  },
  {
   "cell_type": "code",
   "execution_count": null,
   "id": "f0adfe0a-1e74-4e03-b190-647ba99d589a",
   "metadata": {},
   "outputs": [],
   "source": [
    "# Scale Features\n",
    "scaler = StandardScaler()\n",
    "X_scaled = scaler.fit_transform(X)\n"
   ]
  },
  {
   "cell_type": "code",
   "execution_count": null,
   "id": "e4ee0bb6-4ce9-4380-aafa-93450aa1b658",
   "metadata": {},
   "outputs": [],
   "source": [
    "# Separate Normal and Anomalous Transactions\n",
    "X_normal = X_scaled[y == 0]\n",
    "X_anomalous = X_scaled[y == 1]\n"
   ]
  },
  {
   "cell_type": "code",
   "execution_count": null,
   "id": "a50b2c09-e0ea-4f2c-ac17-18c8acbec9c6",
   "metadata": {},
   "outputs": [],
   "source": [
    "# Build the Autoencoder Model\n",
    "input_dim = X_normal.shape[1]  # Input dimension based on features in the dataset\n"
   ]
  },
  {
   "cell_type": "code",
   "execution_count": null,
   "id": "4bc3c67f-3c95-478b-b92f-b647c778f07b",
   "metadata": {},
   "outputs": [],
   "source": [
    "# Encoder\n",
    "input_layer = Input(shape=(input_dim,))\n",
    "encoder = Dense(64, activation=\"relu\")(input_layer)\n",
    "encoder = Dense(32, activation=\"relu\")(encoder)\n",
    "latent_space = Dense(16, activation=\"relu\")(encoder)\n",
    "\n",
    "# Decoder\n",
    "decoder = Dense(32, activation=\"relu\")(latent_space)\n",
    "decoder = Dense(64, activation=\"relu\")(decoder)\n",
    "output_layer = Dense(input_dim, activation=\"sigmoid\")(decoder)\n",
    "\n",
    "# Build and Compile the Autoencoder Model\n",
    "autoencoder = Model(inputs=input_layer, outputs=output_layer)\n",
    "autoencoder.compile(optimizer=Adam(learning_rate=0.001), loss='mse', metrics=['mae'])"
   ]
  },
  {
   "cell_type": "code",
   "execution_count": null,
   "id": "67ec7a49-3e59-49a9-ba65-ff986cc8b76f",
   "metadata": {},
   "outputs": [],
   "source": [
    "# Train the Autoencoder on Normal Transactions\n",
    "history = autoencoder.fit(X_normal, X_normal, \n",
    "                          epochs=10, \n",
    "                          batch_size=32, \n",
    "                          validation_split=0.2, \n",
    "                          shuffle=True)"
   ]
  },
  {
   "cell_type": "code",
   "execution_count": null,
   "id": "dc1e9886-ee1a-474e-a97e-aa01791c1622",
   "metadata": {},
   "outputs": [],
   "source": [
    "# Set Anomaly Detection Threshold\n",
    "X_normal_pred = autoencoder.predict(X_normal)\n",
    "reconstruction_error_normal = np.mean(np.square(X_normal_pred - X_normal), axis=1)\n",
    "threshold = np.percentile(reconstruction_error_normal, 95)\n",
    "print(\"Anomaly detection threshold:\", threshold)\n"
   ]
  },
  {
   "cell_type": "code",
   "execution_count": null,
   "id": "4cb9d942-bd3b-4209-a5e0-dc9a2fcfb7fe",
   "metadata": {},
   "outputs": [],
   "source": [
    "# Detect Anomalies in Anomalous Data\n",
    "X_anomalous_pred = autoencoder.predict(X_anomalous)\n",
    "reconstruction_error_anomalous = np.mean(np.square(X_anomalous_pred - X_anomalous), axis=1)\n",
    "anomalies = reconstruction_error_anomalous > threshold\n",
    "print(\"Number of anomalies detected:\", np.sum(anomalies))"
   ]
  },
  {
   "cell_type": "code",
   "execution_count": null,
   "id": "9246eb49-16c6-4c07-a273-bf97c564ad82",
   "metadata": {},
   "outputs": [],
   "source": [
    "# Visualize Reconstruction Error\n",
    "plt.hist(reconstruction_error_normal, bins=50, alpha=0.7, label=\"Normal\")\n",
    "plt.hist(reconstruction_error_anomalous, bins=50, alpha=0.7, label=\"Anomaly\")\n",
    "plt.axvline(threshold, color='red', linestyle='--', label=\"Threshold\")\n",
    "plt.xlabel(\"Reconstruction error\")\n",
    "plt.ylabel(\"Frequency\")\n",
    "plt.legend()\n",
    "plt.show()"
   ]
  },
  {
   "cell_type": "code",
   "execution_count": null,
   "id": "5ef95e22-a05c-4156-8484-510794f22e20",
   "metadata": {},
   "outputs": [],
   "source": []
  }
 ],
 "metadata": {
  "kernelspec": {
   "display_name": "Python 3 (ipykernel)",
   "language": "python",
   "name": "python3"
  },
  "language_info": {
   "codemirror_mode": {
    "name": "ipython",
    "version": 3
   },
   "file_extension": ".py",
   "mimetype": "text/x-python",
   "name": "python",
   "nbconvert_exporter": "python",
   "pygments_lexer": "ipython3",
   "version": "3.9.18"
  }
 },
 "nbformat": 4,
 "nbformat_minor": 5
}
